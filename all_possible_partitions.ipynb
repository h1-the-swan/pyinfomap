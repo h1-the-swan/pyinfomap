{
 "cells": [
  {
   "cell_type": "code",
   "execution_count": 1,
   "metadata": {
    "collapsed": false
   },
   "outputs": [],
   "source": [
    "import itertools"
   ]
  },
  {
   "cell_type": "code",
   "execution_count": 2,
   "metadata": {
    "collapsed": true
   },
   "outputs": [],
   "source": [
    "g = range(7)"
   ]
  },
  {
   "cell_type": "code",
   "execution_count": 3,
   "metadata": {
    "collapsed": false
   },
   "outputs": [
    {
     "data": {
      "text/plain": [
       "[0, 1, 2, 3, 4, 5, 6]"
      ]
     },
     "execution_count": 3,
     "metadata": {},
     "output_type": "execute_result"
    }
   ],
   "source": [
    "g"
   ]
  },
  {
   "cell_type": "code",
   "execution_count": 4,
   "metadata": {
    "collapsed": false
   },
   "outputs": [],
   "source": [
    "from sympy.utilities.iterables import multiset_partitions"
   ]
  },
  {
   "cell_type": "code",
   "execution_count": 5,
   "metadata": {
    "collapsed": false
   },
   "outputs": [
    {
     "name": "stdout",
     "output_type": "stream",
     "text": [
      "[[0, 1, 2]]\n",
      "[[0, 1], [2]]\n",
      "[[0, 2], [1]]\n",
      "[[0], [1, 2]]\n",
      "[[0], [1], [2]]\n"
     ]
    }
   ],
   "source": [
    "for p in multiset_partitions(3):\n",
    "    print(p)"
   ]
  },
  {
   "cell_type": "code",
   "execution_count": 6,
   "metadata": {
    "collapsed": true
   },
   "outputs": [],
   "source": [
    "from pyinfomap import load_and_process_graph, Clustering"
   ]
  },
  {
   "cell_type": "code",
   "execution_count": 23,
   "metadata": {
    "collapsed": false
   },
   "outputs": [
    {
     "name": "stdout",
     "output_type": "stream",
     "text": [
      "Loaded a graph (16 nodes, 20 edges)\n"
     ]
    }
   ],
   "source": [
    "def load_graph(graph_fname=\"2009_figure3ab.net\"):\n",
    "    with open(graph_fname, 'r') as f:\n",
    "        graph = load_and_process_graph(f)\n",
    "    return graph\n",
    "graph = load_graph()"
   ]
  },
  {
   "cell_type": "code",
   "execution_count": 17,
   "metadata": {
    "collapsed": false
   },
   "outputs": [
    {
     "data": {
      "text/plain": [
       "16"
      ]
     },
     "execution_count": 17,
     "metadata": {},
     "output_type": "execute_result"
    }
   ],
   "source": [
    "graph.number_of_nodes()"
   ]
  },
  {
   "cell_type": "code",
   "execution_count": 24,
   "metadata": {
    "collapsed": false
   },
   "outputs": [],
   "source": [
    "remove_from = 6\n",
    "rmv = [str(x) for x in range(remove_from, graph.number_of_nodes()+1)]\n",
    "graph.remove_nodes_from(rmv)"
   ]
  },
  {
   "cell_type": "code",
   "execution_count": 31,
   "metadata": {
    "collapsed": false
   },
   "outputs": [],
   "source": [
    "def count_all_partitions(graph):\n",
    "    i = 0\n",
    "    print(\"Number of nodes: {}\".format(graph.number_of_nodes()))\n",
    "    for p in multiset_partitions(graph.nodes()):\n",
    "        i+=1\n",
    "    print(\"Number of partitions: {}\".format(i))"
   ]
  },
  {
   "cell_type": "code",
   "execution_count": 32,
   "metadata": {
    "collapsed": false
   },
   "outputs": [
    {
     "name": "stdout",
     "output_type": "stream",
     "text": [
      "Number of nodes: 5\n",
      "Number of partitions: 52\n",
      "CPU times: user 0 ns, sys: 0 ns, total: 0 ns\n",
      "Wall time: 452 µs\n"
     ]
    }
   ],
   "source": [
    "%time count_all_partitions(graph)"
   ]
  },
  {
   "cell_type": "code",
   "execution_count": 34,
   "metadata": {
    "collapsed": false,
    "scrolled": false
   },
   "outputs": [
    {
     "name": "stdout",
     "output_type": "stream",
     "text": [
      "Loaded a graph (16 nodes, 20 edges)\n",
      "Number of nodes: 1\n",
      "Number of partitions: 1\n",
      "CPU times: user 0 ns, sys: 0 ns, total: 0 ns\n",
      "Wall time: 322 µs\n",
      "\n",
      "Loaded a graph (16 nodes, 20 edges)\n",
      "Number of nodes: 2\n",
      "Number of partitions: 2\n",
      "CPU times: user 0 ns, sys: 0 ns, total: 0 ns\n",
      "Wall time: 568 µs\n",
      "\n",
      "Loaded a graph (16 nodes, 20 edges)\n",
      "Number of nodes: 3\n",
      "Number of partitions: 5\n",
      "CPU times: user 0 ns, sys: 0 ns, total: 0 ns\n",
      "Wall time: 412 µs\n",
      "\n",
      "Loaded a graph (16 nodes, 20 edges)\n",
      "Number of nodes: 4\n",
      "Number of partitions: 15\n",
      "CPU times: user 0 ns, sys: 0 ns, total: 0 ns\n",
      "Wall time: 677 µs\n",
      "\n",
      "Loaded a graph (16 nodes, 20 edges)\n",
      "Number of nodes: 5\n",
      "Number of partitions: 52\n",
      "CPU times: user 0 ns, sys: 0 ns, total: 0 ns\n",
      "Wall time: 913 µs\n",
      "\n",
      "Loaded a graph (16 nodes, 20 edges)\n",
      "Number of nodes: 6\n",
      "Number of partitions: 203\n",
      "CPU times: user 0 ns, sys: 0 ns, total: 0 ns\n",
      "Wall time: 1.13 ms\n",
      "\n",
      "Loaded a graph (16 nodes, 20 edges)\n",
      "Number of nodes: 7\n",
      "Number of partitions: 877\n",
      "CPU times: user 4 ms, sys: 0 ns, total: 4 ms\n",
      "Wall time: 3.63 ms\n",
      "\n",
      "Loaded a graph (16 nodes, 20 edges)\n",
      "Number of nodes: 8\n",
      "Number of partitions: 4140\n",
      "CPU times: user 16 ms, sys: 0 ns, total: 16 ms\n",
      "Wall time: 15.4 ms\n",
      "\n",
      "Loaded a graph (16 nodes, 20 edges)\n",
      "Number of nodes: 9\n",
      "Number of partitions: 21147\n",
      "CPU times: user 80 ms, sys: 0 ns, total: 80 ms\n",
      "Wall time: 81.1 ms\n",
      "\n",
      "Loaded a graph (16 nodes, 20 edges)\n",
      "Number of nodes: 10\n",
      "Number of partitions: 115975\n",
      "CPU times: user 488 ms, sys: 0 ns, total: 488 ms\n",
      "Wall time: 488 ms\n",
      "\n",
      "Loaded a graph (16 nodes, 20 edges)\n",
      "Number of nodes: 11\n",
      "Number of partitions: 678570\n",
      "CPU times: user 3.02 s, sys: 0 ns, total: 3.02 s\n",
      "Wall time: 3.02 s\n",
      "\n",
      "Loaded a graph (16 nodes, 20 edges)\n",
      "Number of nodes: 12\n",
      "Number of partitions: 4213597\n",
      "CPU times: user 19.8 s, sys: 8 ms, total: 19.8 s\n",
      "Wall time: 19.9 s\n",
      "\n",
      "Loaded a graph (16 nodes, 20 edges)\n",
      "Number of nodes: 13\n",
      "Number of partitions: 27644437\n",
      "CPU times: user 2min 16s, sys: 40 ms, total: 2min 16s\n",
      "Wall time: 2min 16s\n",
      "\n"
     ]
    }
   ],
   "source": [
    "for i in range(2, 15):\n",
    "    graph = load_graph()\n",
    "    rmv = [str(x) for x in range(i, graph.number_of_nodes()+1)]\n",
    "    graph.remove_nodes_from(rmv)\n",
    "    %time count_all_partitions(graph)\n",
    "    print(\"\")"
   ]
  },
  {
   "cell_type": "code",
   "execution_count": null,
   "metadata": {
    "collapsed": false
   },
   "outputs": [
    {
     "name": "stdout",
     "output_type": "stream",
     "text": [
      "Loaded a graph (16 nodes, 20 edges)\n",
      "Number of nodes: 14\n",
      "Number of partitions: 190899322\n",
      "CPU times: user 16min 18s, sys: 124 ms, total: 16min 18s\n",
      "Wall time: 16min 22s\n",
      "\n",
      "Loaded a graph (16 nodes, 20 edges)\n",
      "Number of nodes: 15\n"
     ]
    }
   ],
   "source": [
    "for i in range(15, 17):\n",
    "    graph = load_graph()\n",
    "    rmv = [str(x) for x in range(i, graph.number_of_nodes()+1)]\n",
    "    graph.remove_nodes_from(rmv)\n",
    "    %time count_all_partitions(graph)\n",
    "    print(\"\")"
   ]
  },
  {
   "cell_type": "code",
   "execution_count": null,
   "metadata": {
    "collapsed": true
   },
   "outputs": [],
   "source": []
  },
  {
   "cell_type": "code",
   "execution_count": null,
   "metadata": {
    "collapsed": false
   },
   "outputs": [],
   "source": [
    "with open('2009_figure3ac.mod', 'r') as f:\n",
    "    modules = [line.strip().split() for line in f]\n",
    "modules"
   ]
  }
 ],
 "metadata": {
  "kernelspec": {
   "display_name": "Python 2",
   "language": "python",
   "name": "python2"
  },
  "language_info": {
   "codemirror_mode": {
    "name": "ipython",
    "version": 2
   },
   "file_extension": ".py",
   "mimetype": "text/x-python",
   "name": "python",
   "nbconvert_exporter": "python",
   "pygments_lexer": "ipython2",
   "version": "2.7.13"
  }
 },
 "nbformat": 4,
 "nbformat_minor": 2
}
