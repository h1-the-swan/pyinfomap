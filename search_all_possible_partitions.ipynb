{
 "cells": [
  {
   "cell_type": "code",
   "execution_count": 26,
   "metadata": {
    "collapsed": true
   },
   "outputs": [],
   "source": [
    "import pandas as pd\n",
    "import numpy as np\n",
    "import networkx as nx"
   ]
  },
  {
   "cell_type": "code",
   "execution_count": 2,
   "metadata": {
    "collapsed": true
   },
   "outputs": [],
   "source": [
    "from pyinfomap import load_and_process_graph, Clustering"
   ]
  },
  {
   "cell_type": "code",
   "execution_count": 3,
   "metadata": {
    "collapsed": false
   },
   "outputs": [
    {
     "name": "stdout",
     "output_type": "stream",
     "text": [
      "Loaded a graph (16 nodes, 20 edges)\n"
     ]
    }
   ],
   "source": [
    "def load_graph(graph_fname=\"2009_figure3ab.net\"):\n",
    "    with open(graph_fname, 'r') as f:\n",
    "        graph = load_and_process_graph(f)\n",
    "    return graph\n",
    "graph = load_graph()"
   ]
  },
  {
   "cell_type": "code",
   "execution_count": 4,
   "metadata": {
    "collapsed": false
   },
   "outputs": [],
   "source": [
    "modules = [[x] for x in graph.nodes()]"
   ]
  },
  {
   "cell_type": "code",
   "execution_count": 5,
   "metadata": {
    "collapsed": true
   },
   "outputs": [],
   "source": [
    "clustering = Clustering(graph, modules)"
   ]
  },
  {
   "cell_type": "code",
   "execution_count": 6,
   "metadata": {
    "collapsed": false
   },
   "outputs": [],
   "source": [
    "mdl = clustering.get_mdl()"
   ]
  },
  {
   "cell_type": "code",
   "execution_count": 7,
   "metadata": {
    "collapsed": false
   },
   "outputs": [
    {
     "data": {
      "text/plain": [
       "7"
      ]
     },
     "execution_count": 7,
     "metadata": {},
     "output_type": "execute_result"
    }
   ],
   "source": [
    "test_node_id = u'1'\n",
    "graph.node[test_node_id]['module_id']"
   ]
  },
  {
   "cell_type": "code",
   "execution_count": 8,
   "metadata": {
    "collapsed": false
   },
   "outputs": [
    {
     "data": {
      "text/plain": [
       "5.892210134187453"
      ]
     },
     "execution_count": 8,
     "metadata": {},
     "output_type": "execute_result"
    }
   ],
   "source": [
    "# just changing the module id attribute\n",
    "graph.node['1']['module_id'] = 6\n",
    "clustering.get_mdl()\n",
    "# doesn't work"
   ]
  },
  {
   "cell_type": "code",
   "execution_count": 9,
   "metadata": {
    "collapsed": false
   },
   "outputs": [
    {
     "data": {
      "text/plain": [
       "[[u'10', u'11'],\n",
       " [u'13'],\n",
       " [u'12'],\n",
       " [u'15'],\n",
       " [u'14'],\n",
       " [u'16'],\n",
       " [u'1'],\n",
       " [u'3'],\n",
       " [u'2'],\n",
       " [u'5'],\n",
       " [u'4'],\n",
       " [u'7'],\n",
       " [u'6'],\n",
       " [u'9'],\n",
       " [u'8']]"
      ]
     },
     "execution_count": 9,
     "metadata": {},
     "output_type": "execute_result"
    }
   ],
   "source": [
    "# alter the modules structure, then reload the clustering. this works\n",
    "modules[1].append(u'11')\n",
    "del modules[0]\n",
    "modules"
   ]
  },
  {
   "cell_type": "code",
   "execution_count": 21,
   "metadata": {
    "collapsed": false
   },
   "outputs": [],
   "source": [
    "def get_mdl(graph, modules):\n",
    "    clustering = Clustering(graph, modules)\n",
    "    return clustering.get_mdl()"
   ]
  },
  {
   "cell_type": "code",
   "execution_count": 11,
   "metadata": {
    "collapsed": true
   },
   "outputs": [],
   "source": [
    "from sympy.utilities.iterables import multiset_partitions"
   ]
  },
  {
   "cell_type": "code",
   "execution_count": 12,
   "metadata": {
    "collapsed": true
   },
   "outputs": [],
   "source": [
    "def count_all_partitions(graph):\n",
    "    i = 0\n",
    "    print(\"Number of nodes: {}\".format(graph.number_of_nodes()))\n",
    "    for p in multiset_partitions(graph.nodes()):\n",
    "        i+=1\n",
    "    print(\"Number of partitions: {}\".format(i))"
   ]
  },
  {
   "cell_type": "code",
   "execution_count": 14,
   "metadata": {
    "collapsed": false
   },
   "outputs": [
    {
     "name": "stdout",
     "output_type": "stream",
     "text": [
      "Loaded a graph (6 nodes, 16 edges)\n"
     ]
    }
   ],
   "source": [
    "graph = load_graph('example_network.net')"
   ]
  },
  {
   "cell_type": "code",
   "execution_count": 15,
   "metadata": {
    "collapsed": false
   },
   "outputs": [
    {
     "name": "stdout",
     "output_type": "stream",
     "text": [
      "Number of nodes: 6\n",
      "Number of partitions: 203\n"
     ]
    }
   ],
   "source": [
    "count_all_partitions(graph)"
   ]
  },
  {
   "cell_type": "code",
   "execution_count": 16,
   "metadata": {
    "collapsed": false
   },
   "outputs": [
    {
     "name": "stdout",
     "output_type": "stream",
     "text": [
      "[[u'A', u'B', u'C', u'D', u'E', u'F']]\n",
      "[[u'A', u'B', u'C', u'D', u'E'], [u'F']]\n",
      "[[u'A', u'B', u'C', u'D', u'F'], [u'E']]\n",
      "[[u'A', u'B', u'C', u'D'], [u'E', u'F']]\n",
      "[[u'A', u'B', u'C', u'D'], [u'E'], [u'F']]\n",
      "[[u'A', u'B', u'C', u'E', u'F'], [u'D']]\n",
      "[[u'A', u'B', u'C', u'E'], [u'D', u'F']]\n",
      "[[u'A', u'B', u'C', u'E'], [u'D'], [u'F']]\n",
      "[[u'A', u'B', u'C', u'F'], [u'D', u'E']]\n",
      "[[u'A', u'B', u'C'], [u'D', u'E', u'F']]\n",
      "[[u'A', u'B', u'C'], [u'D', u'E'], [u'F']]\n",
      "[[u'A', u'B', u'C', u'F'], [u'D'], [u'E']]\n",
      "[[u'A', u'B', u'C'], [u'D', u'F'], [u'E']]\n",
      "[[u'A', u'B', u'C'], [u'D'], [u'E', u'F']]\n",
      "[[u'A', u'B', u'C'], [u'D'], [u'E'], [u'F']]\n",
      "[[u'A', u'B', u'D', u'E', u'F'], [u'C']]\n",
      "[[u'A', u'B', u'D', u'E'], [u'C', u'F']]\n",
      "[[u'A', u'B', u'D', u'E'], [u'C'], [u'F']]\n",
      "[[u'A', u'B', u'D', u'F'], [u'C', u'E']]\n",
      "[[u'A', u'B', u'D'], [u'C', u'E', u'F']]\n",
      "[[u'A', u'B', u'D'], [u'C', u'E'], [u'F']]\n",
      "[[u'A', u'B', u'D', u'F'], [u'C'], [u'E']]\n",
      "[[u'A', u'B', u'D'], [u'C', u'F'], [u'E']]\n",
      "[[u'A', u'B', u'D'], [u'C'], [u'E', u'F']]\n",
      "[[u'A', u'B', u'D'], [u'C'], [u'E'], [u'F']]\n",
      "[[u'A', u'B', u'E', u'F'], [u'C', u'D']]\n",
      "[[u'A', u'B', u'E'], [u'C', u'D', u'F']]\n",
      "[[u'A', u'B', u'E'], [u'C', u'D'], [u'F']]\n",
      "[[u'A', u'B', u'F'], [u'C', u'D', u'E']]\n",
      "[[u'A', u'B'], [u'C', u'D', u'E', u'F']]\n",
      "[[u'A', u'B'], [u'C', u'D', u'E'], [u'F']]\n",
      "[[u'A', u'B', u'F'], [u'C', u'D'], [u'E']]\n",
      "[[u'A', u'B'], [u'C', u'D', u'F'], [u'E']]\n",
      "[[u'A', u'B'], [u'C', u'D'], [u'E', u'F']]\n",
      "[[u'A', u'B'], [u'C', u'D'], [u'E'], [u'F']]\n",
      "[[u'A', u'B', u'E', u'F'], [u'C'], [u'D']]\n",
      "[[u'A', u'B', u'E'], [u'C', u'F'], [u'D']]\n",
      "[[u'A', u'B', u'E'], [u'C'], [u'D', u'F']]\n",
      "[[u'A', u'B', u'E'], [u'C'], [u'D'], [u'F']]\n",
      "[[u'A', u'B', u'F'], [u'C', u'E'], [u'D']]\n",
      "[[u'A', u'B'], [u'C', u'E', u'F'], [u'D']]\n",
      "[[u'A', u'B'], [u'C', u'E'], [u'D', u'F']]\n",
      "[[u'A', u'B'], [u'C', u'E'], [u'D'], [u'F']]\n",
      "[[u'A', u'B', u'F'], [u'C'], [u'D', u'E']]\n",
      "[[u'A', u'B'], [u'C', u'F'], [u'D', u'E']]\n",
      "[[u'A', u'B'], [u'C'], [u'D', u'E', u'F']]\n",
      "[[u'A', u'B'], [u'C'], [u'D', u'E'], [u'F']]\n",
      "[[u'A', u'B', u'F'], [u'C'], [u'D'], [u'E']]\n",
      "[[u'A', u'B'], [u'C', u'F'], [u'D'], [u'E']]\n",
      "[[u'A', u'B'], [u'C'], [u'D', u'F'], [u'E']]\n",
      "[[u'A', u'B'], [u'C'], [u'D'], [u'E', u'F']]\n",
      "[[u'A', u'B'], [u'C'], [u'D'], [u'E'], [u'F']]\n",
      "[[u'A', u'C', u'D', u'E', u'F'], [u'B']]\n",
      "[[u'A', u'C', u'D', u'E'], [u'B', u'F']]\n",
      "[[u'A', u'C', u'D', u'E'], [u'B'], [u'F']]\n",
      "[[u'A', u'C', u'D', u'F'], [u'B', u'E']]\n",
      "[[u'A', u'C', u'D'], [u'B', u'E', u'F']]\n",
      "[[u'A', u'C', u'D'], [u'B', u'E'], [u'F']]\n",
      "[[u'A', u'C', u'D', u'F'], [u'B'], [u'E']]\n",
      "[[u'A', u'C', u'D'], [u'B', u'F'], [u'E']]\n",
      "[[u'A', u'C', u'D'], [u'B'], [u'E', u'F']]\n",
      "[[u'A', u'C', u'D'], [u'B'], [u'E'], [u'F']]\n",
      "[[u'A', u'C', u'E', u'F'], [u'B', u'D']]\n",
      "[[u'A', u'C', u'E'], [u'B', u'D', u'F']]\n",
      "[[u'A', u'C', u'E'], [u'B', u'D'], [u'F']]\n",
      "[[u'A', u'C', u'F'], [u'B', u'D', u'E']]\n",
      "[[u'A', u'C'], [u'B', u'D', u'E', u'F']]\n",
      "[[u'A', u'C'], [u'B', u'D', u'E'], [u'F']]\n",
      "[[u'A', u'C', u'F'], [u'B', u'D'], [u'E']]\n",
      "[[u'A', u'C'], [u'B', u'D', u'F'], [u'E']]\n",
      "[[u'A', u'C'], [u'B', u'D'], [u'E', u'F']]\n",
      "[[u'A', u'C'], [u'B', u'D'], [u'E'], [u'F']]\n",
      "[[u'A', u'C', u'E', u'F'], [u'B'], [u'D']]\n",
      "[[u'A', u'C', u'E'], [u'B', u'F'], [u'D']]\n",
      "[[u'A', u'C', u'E'], [u'B'], [u'D', u'F']]\n",
      "[[u'A', u'C', u'E'], [u'B'], [u'D'], [u'F']]\n",
      "[[u'A', u'C', u'F'], [u'B', u'E'], [u'D']]\n",
      "[[u'A', u'C'], [u'B', u'E', u'F'], [u'D']]\n",
      "[[u'A', u'C'], [u'B', u'E'], [u'D', u'F']]\n",
      "[[u'A', u'C'], [u'B', u'E'], [u'D'], [u'F']]\n",
      "[[u'A', u'C', u'F'], [u'B'], [u'D', u'E']]\n",
      "[[u'A', u'C'], [u'B', u'F'], [u'D', u'E']]\n",
      "[[u'A', u'C'], [u'B'], [u'D', u'E', u'F']]\n",
      "[[u'A', u'C'], [u'B'], [u'D', u'E'], [u'F']]\n",
      "[[u'A', u'C', u'F'], [u'B'], [u'D'], [u'E']]\n",
      "[[u'A', u'C'], [u'B', u'F'], [u'D'], [u'E']]\n",
      "[[u'A', u'C'], [u'B'], [u'D', u'F'], [u'E']]\n",
      "[[u'A', u'C'], [u'B'], [u'D'], [u'E', u'F']]\n",
      "[[u'A', u'C'], [u'B'], [u'D'], [u'E'], [u'F']]\n",
      "[[u'A', u'D', u'E', u'F'], [u'B', u'C']]\n",
      "[[u'A', u'D', u'E'], [u'B', u'C', u'F']]\n",
      "[[u'A', u'D', u'E'], [u'B', u'C'], [u'F']]\n",
      "[[u'A', u'D', u'F'], [u'B', u'C', u'E']]\n",
      "[[u'A', u'D'], [u'B', u'C', u'E', u'F']]\n",
      "[[u'A', u'D'], [u'B', u'C', u'E'], [u'F']]\n",
      "[[u'A', u'D', u'F'], [u'B', u'C'], [u'E']]\n",
      "[[u'A', u'D'], [u'B', u'C', u'F'], [u'E']]\n",
      "[[u'A', u'D'], [u'B', u'C'], [u'E', u'F']]\n",
      "[[u'A', u'D'], [u'B', u'C'], [u'E'], [u'F']]\n",
      "[[u'A', u'E', u'F'], [u'B', u'C', u'D']]\n",
      "[[u'A', u'E'], [u'B', u'C', u'D', u'F']]\n",
      "[[u'A', u'E'], [u'B', u'C', u'D'], [u'F']]\n",
      "[[u'A', u'F'], [u'B', u'C', u'D', u'E']]\n",
      "[[u'A'], [u'B', u'C', u'D', u'E', u'F']]\n",
      "[[u'A'], [u'B', u'C', u'D', u'E'], [u'F']]\n",
      "[[u'A', u'F'], [u'B', u'C', u'D'], [u'E']]\n",
      "[[u'A'], [u'B', u'C', u'D', u'F'], [u'E']]\n",
      "[[u'A'], [u'B', u'C', u'D'], [u'E', u'F']]\n",
      "[[u'A'], [u'B', u'C', u'D'], [u'E'], [u'F']]\n",
      "[[u'A', u'E', u'F'], [u'B', u'C'], [u'D']]\n",
      "[[u'A', u'E'], [u'B', u'C', u'F'], [u'D']]\n",
      "[[u'A', u'E'], [u'B', u'C'], [u'D', u'F']]\n",
      "[[u'A', u'E'], [u'B', u'C'], [u'D'], [u'F']]\n",
      "[[u'A', u'F'], [u'B', u'C', u'E'], [u'D']]\n",
      "[[u'A'], [u'B', u'C', u'E', u'F'], [u'D']]\n",
      "[[u'A'], [u'B', u'C', u'E'], [u'D', u'F']]\n",
      "[[u'A'], [u'B', u'C', u'E'], [u'D'], [u'F']]\n",
      "[[u'A', u'F'], [u'B', u'C'], [u'D', u'E']]\n",
      "[[u'A'], [u'B', u'C', u'F'], [u'D', u'E']]\n",
      "[[u'A'], [u'B', u'C'], [u'D', u'E', u'F']]\n",
      "[[u'A'], [u'B', u'C'], [u'D', u'E'], [u'F']]\n",
      "[[u'A', u'F'], [u'B', u'C'], [u'D'], [u'E']]\n",
      "[[u'A'], [u'B', u'C', u'F'], [u'D'], [u'E']]\n",
      "[[u'A'], [u'B', u'C'], [u'D', u'F'], [u'E']]\n",
      "[[u'A'], [u'B', u'C'], [u'D'], [u'E', u'F']]\n",
      "[[u'A'], [u'B', u'C'], [u'D'], [u'E'], [u'F']]\n",
      "[[u'A', u'D', u'E', u'F'], [u'B'], [u'C']]\n",
      "[[u'A', u'D', u'E'], [u'B', u'F'], [u'C']]\n",
      "[[u'A', u'D', u'E'], [u'B'], [u'C', u'F']]\n",
      "[[u'A', u'D', u'E'], [u'B'], [u'C'], [u'F']]\n",
      "[[u'A', u'D', u'F'], [u'B', u'E'], [u'C']]\n",
      "[[u'A', u'D'], [u'B', u'E', u'F'], [u'C']]\n",
      "[[u'A', u'D'], [u'B', u'E'], [u'C', u'F']]\n",
      "[[u'A', u'D'], [u'B', u'E'], [u'C'], [u'F']]\n",
      "[[u'A', u'D', u'F'], [u'B'], [u'C', u'E']]\n",
      "[[u'A', u'D'], [u'B', u'F'], [u'C', u'E']]\n",
      "[[u'A', u'D'], [u'B'], [u'C', u'E', u'F']]\n",
      "[[u'A', u'D'], [u'B'], [u'C', u'E'], [u'F']]\n",
      "[[u'A', u'D', u'F'], [u'B'], [u'C'], [u'E']]\n",
      "[[u'A', u'D'], [u'B', u'F'], [u'C'], [u'E']]\n",
      "[[u'A', u'D'], [u'B'], [u'C', u'F'], [u'E']]\n",
      "[[u'A', u'D'], [u'B'], [u'C'], [u'E', u'F']]\n",
      "[[u'A', u'D'], [u'B'], [u'C'], [u'E'], [u'F']]\n",
      "[[u'A', u'E', u'F'], [u'B', u'D'], [u'C']]\n",
      "[[u'A', u'E'], [u'B', u'D', u'F'], [u'C']]\n",
      "[[u'A', u'E'], [u'B', u'D'], [u'C', u'F']]\n",
      "[[u'A', u'E'], [u'B', u'D'], [u'C'], [u'F']]\n",
      "[[u'A', u'F'], [u'B', u'D', u'E'], [u'C']]\n",
      "[[u'A'], [u'B', u'D', u'E', u'F'], [u'C']]\n",
      "[[u'A'], [u'B', u'D', u'E'], [u'C', u'F']]\n",
      "[[u'A'], [u'B', u'D', u'E'], [u'C'], [u'F']]\n",
      "[[u'A', u'F'], [u'B', u'D'], [u'C', u'E']]\n",
      "[[u'A'], [u'B', u'D', u'F'], [u'C', u'E']]\n",
      "[[u'A'], [u'B', u'D'], [u'C', u'E', u'F']]\n",
      "[[u'A'], [u'B', u'D'], [u'C', u'E'], [u'F']]\n",
      "[[u'A', u'F'], [u'B', u'D'], [u'C'], [u'E']]\n",
      "[[u'A'], [u'B', u'D', u'F'], [u'C'], [u'E']]\n",
      "[[u'A'], [u'B', u'D'], [u'C', u'F'], [u'E']]\n",
      "[[u'A'], [u'B', u'D'], [u'C'], [u'E', u'F']]\n",
      "[[u'A'], [u'B', u'D'], [u'C'], [u'E'], [u'F']]\n",
      "[[u'A', u'E', u'F'], [u'B'], [u'C', u'D']]\n",
      "[[u'A', u'E'], [u'B', u'F'], [u'C', u'D']]\n",
      "[[u'A', u'E'], [u'B'], [u'C', u'D', u'F']]\n",
      "[[u'A', u'E'], [u'B'], [u'C', u'D'], [u'F']]\n",
      "[[u'A', u'F'], [u'B', u'E'], [u'C', u'D']]\n",
      "[[u'A'], [u'B', u'E', u'F'], [u'C', u'D']]\n",
      "[[u'A'], [u'B', u'E'], [u'C', u'D', u'F']]\n",
      "[[u'A'], [u'B', u'E'], [u'C', u'D'], [u'F']]\n",
      "[[u'A', u'F'], [u'B'], [u'C', u'D', u'E']]\n",
      "[[u'A'], [u'B', u'F'], [u'C', u'D', u'E']]\n",
      "[[u'A'], [u'B'], [u'C', u'D', u'E', u'F']]\n",
      "[[u'A'], [u'B'], [u'C', u'D', u'E'], [u'F']]\n",
      "[[u'A', u'F'], [u'B'], [u'C', u'D'], [u'E']]\n",
      "[[u'A'], [u'B', u'F'], [u'C', u'D'], [u'E']]\n",
      "[[u'A'], [u'B'], [u'C', u'D', u'F'], [u'E']]\n",
      "[[u'A'], [u'B'], [u'C', u'D'], [u'E', u'F']]\n",
      "[[u'A'], [u'B'], [u'C', u'D'], [u'E'], [u'F']]\n",
      "[[u'A', u'E', u'F'], [u'B'], [u'C'], [u'D']]\n",
      "[[u'A', u'E'], [u'B', u'F'], [u'C'], [u'D']]\n",
      "[[u'A', u'E'], [u'B'], [u'C', u'F'], [u'D']]\n",
      "[[u'A', u'E'], [u'B'], [u'C'], [u'D', u'F']]\n",
      "[[u'A', u'E'], [u'B'], [u'C'], [u'D'], [u'F']]\n",
      "[[u'A', u'F'], [u'B', u'E'], [u'C'], [u'D']]\n",
      "[[u'A'], [u'B', u'E', u'F'], [u'C'], [u'D']]\n",
      "[[u'A'], [u'B', u'E'], [u'C', u'F'], [u'D']]\n",
      "[[u'A'], [u'B', u'E'], [u'C'], [u'D', u'F']]\n",
      "[[u'A'], [u'B', u'E'], [u'C'], [u'D'], [u'F']]\n",
      "[[u'A', u'F'], [u'B'], [u'C', u'E'], [u'D']]\n",
      "[[u'A'], [u'B', u'F'], [u'C', u'E'], [u'D']]\n",
      "[[u'A'], [u'B'], [u'C', u'E', u'F'], [u'D']]\n",
      "[[u'A'], [u'B'], [u'C', u'E'], [u'D', u'F']]\n",
      "[[u'A'], [u'B'], [u'C', u'E'], [u'D'], [u'F']]\n",
      "[[u'A', u'F'], [u'B'], [u'C'], [u'D', u'E']]\n",
      "[[u'A'], [u'B', u'F'], [u'C'], [u'D', u'E']]\n",
      "[[u'A'], [u'B'], [u'C', u'F'], [u'D', u'E']]\n",
      "[[u'A'], [u'B'], [u'C'], [u'D', u'E', u'F']]\n",
      "[[u'A'], [u'B'], [u'C'], [u'D', u'E'], [u'F']]\n",
      "[[u'A', u'F'], [u'B'], [u'C'], [u'D'], [u'E']]\n",
      "[[u'A'], [u'B', u'F'], [u'C'], [u'D'], [u'E']]\n",
      "[[u'A'], [u'B'], [u'C', u'F'], [u'D'], [u'E']]\n",
      "[[u'A'], [u'B'], [u'C'], [u'D', u'F'], [u'E']]\n",
      "[[u'A'], [u'B'], [u'C'], [u'D'], [u'E', u'F']]\n",
      "[[u'A'], [u'B'], [u'C'], [u'D'], [u'E'], [u'F']]\n"
     ]
    }
   ],
   "source": [
    "for p in multiset_partitions(graph.nodes()):\n",
    "    print(p)"
   ]
  },
  {
   "cell_type": "code",
   "execution_count": 17,
   "metadata": {
    "collapsed": true
   },
   "outputs": [],
   "source": [
    "modules = [[x] for x in graph.nodes()]"
   ]
  },
  {
   "cell_type": "code",
   "execution_count": 22,
   "metadata": {
    "collapsed": false
   },
   "outputs": [
    {
     "data": {
      "text/plain": [
       "3.479503597517637"
      ]
     },
     "execution_count": 22,
     "metadata": {},
     "output_type": "execute_result"
    }
   ],
   "source": [
    "get_mdl(graph, modules)"
   ]
  },
  {
   "cell_type": "code",
   "execution_count": 30,
   "metadata": {
    "collapsed": false
   },
   "outputs": [],
   "source": [
    "all_mdls = {}\n",
    "partition_map = {}\n",
    "i = 0\n",
    "for p in multiset_partitions(graph.nodes()):\n",
    "    mdl = get_mdl(graph, p)\n",
    "    all_mdls[i] = mdl\n",
    "    partition_map[i] = p\n",
    "    i += 1"
   ]
  },
  {
   "cell_type": "code",
   "execution_count": 31,
   "metadata": {
    "collapsed": false
   },
   "outputs": [],
   "source": [
    "all_mdls = pd.DataFrame.from_dict(all_mdls, orient='index').rename(columns={0: 'mdl'})"
   ]
  },
  {
   "cell_type": "code",
   "execution_count": 33,
   "metadata": {
    "collapsed": false
   },
   "outputs": [
    {
     "data": {
      "text/html": [
       "<div>\n",
       "<table border=\"1\" class=\"dataframe\">\n",
       "  <thead>\n",
       "    <tr style=\"text-align: right;\">\n",
       "      <th></th>\n",
       "      <th>mdl</th>\n",
       "    </tr>\n",
       "  </thead>\n",
       "  <tbody>\n",
       "    <tr>\n",
       "      <th>0</th>\n",
       "      <td>2.308658</td>\n",
       "    </tr>\n",
       "    <tr>\n",
       "      <th>1</th>\n",
       "      <td>2.487879</td>\n",
       "    </tr>\n",
       "    <tr>\n",
       "      <th>62</th>\n",
       "      <td>2.551073</td>\n",
       "    </tr>\n",
       "    <tr>\n",
       "      <th>63</th>\n",
       "      <td>2.552027</td>\n",
       "    </tr>\n",
       "    <tr>\n",
       "      <th>5</th>\n",
       "      <td>2.558658</td>\n",
       "    </tr>\n",
       "    <tr>\n",
       "      <th>64</th>\n",
       "      <td>2.593179</td>\n",
       "    </tr>\n",
       "    <tr>\n",
       "      <th>15</th>\n",
       "      <td>2.605347</td>\n",
       "    </tr>\n",
       "    <tr>\n",
       "      <th>144</th>\n",
       "      <td>2.660429</td>\n",
       "    </tr>\n",
       "    <tr>\n",
       "      <th>143</th>\n",
       "      <td>2.664822</td>\n",
       "    </tr>\n",
       "    <tr>\n",
       "      <th>99</th>\n",
       "      <td>2.672902</td>\n",
       "    </tr>\n",
       "    <tr>\n",
       "      <th>100</th>\n",
       "      <td>2.677665</td>\n",
       "    </tr>\n",
       "    <tr>\n",
       "      <th>6</th>\n",
       "      <td>2.681049</td>\n",
       "    </tr>\n",
       "    <tr>\n",
       "      <th>7</th>\n",
       "      <td>2.697403</td>\n",
       "    </tr>\n",
       "    <tr>\n",
       "      <th>72</th>\n",
       "      <td>2.709287</td>\n",
       "    </tr>\n",
       "    <tr>\n",
       "      <th>101</th>\n",
       "      <td>2.720525</td>\n",
       "    </tr>\n",
       "    <tr>\n",
       "      <th>146</th>\n",
       "      <td>2.724276</td>\n",
       "    </tr>\n",
       "    <tr>\n",
       "      <th>73</th>\n",
       "      <td>2.726433</td>\n",
       "    </tr>\n",
       "    <tr>\n",
       "      <th>145</th>\n",
       "      <td>2.737647</td>\n",
       "    </tr>\n",
       "    <tr>\n",
       "      <th>74</th>\n",
       "      <td>2.750663</td>\n",
       "    </tr>\n",
       "    <tr>\n",
       "      <th>17</th>\n",
       "      <td>2.766176</td>\n",
       "    </tr>\n",
       "    <tr>\n",
       "      <th>75</th>\n",
       "      <td>2.774467</td>\n",
       "    </tr>\n",
       "    <tr>\n",
       "      <th>52</th>\n",
       "      <td>2.777894</td>\n",
       "    </tr>\n",
       "    <tr>\n",
       "      <th>16</th>\n",
       "      <td>2.782144</td>\n",
       "    </tr>\n",
       "    <tr>\n",
       "      <th>25</th>\n",
       "      <td>2.790547</td>\n",
       "    </tr>\n",
       "    <tr>\n",
       "      <th>35</th>\n",
       "      <td>2.793332</td>\n",
       "    </tr>\n",
       "    <tr>\n",
       "      <th>53</th>\n",
       "      <td>2.815083</td>\n",
       "    </tr>\n",
       "    <tr>\n",
       "      <th>54</th>\n",
       "      <td>2.858948</td>\n",
       "    </tr>\n",
       "    <tr>\n",
       "      <th>109</th>\n",
       "      <td>2.859552</td>\n",
       "    </tr>\n",
       "    <tr>\n",
       "      <th>160</th>\n",
       "      <td>2.863788</td>\n",
       "    </tr>\n",
       "    <tr>\n",
       "      <th>161</th>\n",
       "      <td>2.874823</td>\n",
       "    </tr>\n",
       "    <tr>\n",
       "      <th>...</th>\n",
       "      <td>...</td>\n",
       "    </tr>\n",
       "    <tr>\n",
       "      <th>78</th>\n",
       "      <td>3.434871</td>\n",
       "    </tr>\n",
       "    <tr>\n",
       "      <th>174</th>\n",
       "      <td>3.435808</td>\n",
       "    </tr>\n",
       "    <tr>\n",
       "      <th>131</th>\n",
       "      <td>3.436108</td>\n",
       "    </tr>\n",
       "    <tr>\n",
       "      <th>83</th>\n",
       "      <td>3.441303</td>\n",
       "    </tr>\n",
       "    <tr>\n",
       "      <th>183</th>\n",
       "      <td>3.442418</td>\n",
       "    </tr>\n",
       "    <tr>\n",
       "      <th>141</th>\n",
       "      <td>3.443750</td>\n",
       "    </tr>\n",
       "    <tr>\n",
       "      <th>192</th>\n",
       "      <td>3.444505</td>\n",
       "    </tr>\n",
       "    <tr>\n",
       "      <th>200</th>\n",
       "      <td>3.445674</td>\n",
       "    </tr>\n",
       "    <tr>\n",
       "      <th>164</th>\n",
       "      <td>3.445896</td>\n",
       "    </tr>\n",
       "    <tr>\n",
       "      <th>130</th>\n",
       "      <td>3.448118</td>\n",
       "    </tr>\n",
       "    <tr>\n",
       "      <th>201</th>\n",
       "      <td>3.451008</td>\n",
       "    </tr>\n",
       "    <tr>\n",
       "      <th>57</th>\n",
       "      <td>3.451153</td>\n",
       "    </tr>\n",
       "    <tr>\n",
       "      <th>176</th>\n",
       "      <td>3.454942</td>\n",
       "    </tr>\n",
       "    <tr>\n",
       "      <th>195</th>\n",
       "      <td>3.456686</td>\n",
       "    </tr>\n",
       "    <tr>\n",
       "      <th>120</th>\n",
       "      <td>3.461490</td>\n",
       "    </tr>\n",
       "    <tr>\n",
       "      <th>79</th>\n",
       "      <td>3.466817</td>\n",
       "    </tr>\n",
       "    <tr>\n",
       "      <th>182</th>\n",
       "      <td>3.468291</td>\n",
       "    </tr>\n",
       "    <tr>\n",
       "      <th>142</th>\n",
       "      <td>3.471908</td>\n",
       "    </tr>\n",
       "    <tr>\n",
       "      <th>202</th>\n",
       "      <td>3.479504</td>\n",
       "    </tr>\n",
       "    <tr>\n",
       "      <th>140</th>\n",
       "      <td>3.481152</td>\n",
       "    </tr>\n",
       "    <tr>\n",
       "      <th>199</th>\n",
       "      <td>3.488677</td>\n",
       "    </tr>\n",
       "    <tr>\n",
       "      <th>166</th>\n",
       "      <td>3.489119</td>\n",
       "    </tr>\n",
       "    <tr>\n",
       "      <th>185</th>\n",
       "      <td>3.497411</td>\n",
       "    </tr>\n",
       "    <tr>\n",
       "      <th>167</th>\n",
       "      <td>3.507220</td>\n",
       "    </tr>\n",
       "    <tr>\n",
       "      <th>196</th>\n",
       "      <td>3.508122</td>\n",
       "    </tr>\n",
       "    <tr>\n",
       "      <th>194</th>\n",
       "      <td>3.517398</td>\n",
       "    </tr>\n",
       "    <tr>\n",
       "      <th>133</th>\n",
       "      <td>3.523491</td>\n",
       "    </tr>\n",
       "    <tr>\n",
       "      <th>186</th>\n",
       "      <td>3.530580</td>\n",
       "    </tr>\n",
       "    <tr>\n",
       "      <th>132</th>\n",
       "      <td>3.533083</td>\n",
       "    </tr>\n",
       "    <tr>\n",
       "      <th>184</th>\n",
       "      <td>3.540098</td>\n",
       "    </tr>\n",
       "  </tbody>\n",
       "</table>\n",
       "<p>203 rows × 1 columns</p>\n",
       "</div>"
      ],
      "text/plain": [
       "          mdl\n",
       "0    2.308658\n",
       "1    2.487879\n",
       "62   2.551073\n",
       "63   2.552027\n",
       "5    2.558658\n",
       "64   2.593179\n",
       "15   2.605347\n",
       "144  2.660429\n",
       "143  2.664822\n",
       "99   2.672902\n",
       "100  2.677665\n",
       "6    2.681049\n",
       "7    2.697403\n",
       "72   2.709287\n",
       "101  2.720525\n",
       "146  2.724276\n",
       "73   2.726433\n",
       "145  2.737647\n",
       "74   2.750663\n",
       "17   2.766176\n",
       "75   2.774467\n",
       "52   2.777894\n",
       "16   2.782144\n",
       "25   2.790547\n",
       "35   2.793332\n",
       "53   2.815083\n",
       "54   2.858948\n",
       "109  2.859552\n",
       "160  2.863788\n",
       "161  2.874823\n",
       "..        ...\n",
       "78   3.434871\n",
       "174  3.435808\n",
       "131  3.436108\n",
       "83   3.441303\n",
       "183  3.442418\n",
       "141  3.443750\n",
       "192  3.444505\n",
       "200  3.445674\n",
       "164  3.445896\n",
       "130  3.448118\n",
       "201  3.451008\n",
       "57   3.451153\n",
       "176  3.454942\n",
       "195  3.456686\n",
       "120  3.461490\n",
       "79   3.466817\n",
       "182  3.468291\n",
       "142  3.471908\n",
       "202  3.479504\n",
       "140  3.481152\n",
       "199  3.488677\n",
       "166  3.489119\n",
       "185  3.497411\n",
       "167  3.507220\n",
       "196  3.508122\n",
       "194  3.517398\n",
       "133  3.523491\n",
       "186  3.530580\n",
       "132  3.533083\n",
       "184  3.540098\n",
       "\n",
       "[203 rows x 1 columns]"
      ]
     },
     "execution_count": 33,
     "metadata": {},
     "output_type": "execute_result"
    }
   ],
   "source": [
    "all_mdls.sort_values('mdl')"
   ]
  },
  {
   "cell_type": "code",
   "execution_count": null,
   "metadata": {
    "collapsed": true
   },
   "outputs": [],
   "source": []
  },
  {
   "cell_type": "code",
   "execution_count": 34,
   "metadata": {
    "collapsed": false
   },
   "outputs": [
    {
     "data": {
      "text/plain": [
       "[u'A', u'C', u'B', u'E', u'D', u'F']"
      ]
     },
     "execution_count": 34,
     "metadata": {},
     "output_type": "execute_result"
    }
   ],
   "source": []
  }
 ],
 "metadata": {
  "kernelspec": {
   "display_name": "Python 2",
   "language": "python",
   "name": "python2"
  },
  "language_info": {
   "codemirror_mode": {
    "name": "ipython",
    "version": 2
   },
   "file_extension": ".py",
   "mimetype": "text/x-python",
   "name": "python",
   "nbconvert_exporter": "python",
   "pygments_lexer": "ipython2",
   "version": "2.7.13"
  }
 },
 "nbformat": 4,
 "nbformat_minor": 2
}
